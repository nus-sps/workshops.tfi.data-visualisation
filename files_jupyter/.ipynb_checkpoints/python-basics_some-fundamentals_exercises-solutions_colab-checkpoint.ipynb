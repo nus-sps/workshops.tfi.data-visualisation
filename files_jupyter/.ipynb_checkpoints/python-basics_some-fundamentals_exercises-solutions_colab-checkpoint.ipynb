{
 "cells": [
  {
   "cell_type": "markdown",
   "metadata": {
    "colab_type": "text",
    "id": "view-in-github"
   },
   "source": [
    "<a href=\"https://colab.research.google.com/github/nus-sps/workshops.tfi.data-visualisation/blob/main/python_basics_some_fundamentals_exercises_solutions.ipynb\" target=\"_parent\"><img src=\"https://colab.research.google.com/assets/colab-badge.svg\" alt=\"Open In Colab\"/></a>"
   ]
  },
  {
   "cell_type": "markdown",
   "metadata": {
    "id": "R1_PgFSh35y4"
   },
   "source": [
    "# Python Basic Exercises"
   ]
  },
  {
   "cell_type": "markdown",
   "metadata": {
    "id": "uH2xDDbP4Jky"
   },
   "source": [
    "## Question 1 \n",
    "\n",
    "Predict the output of the following code blocks?\n",
    "   Run them in Colab to check if your predictions were correct?\n",
    "\n",
    "   **Note:** You might have to look on the internet for the meaning of some symbols (such as `/` and `%`)"
   ]
  },
  {
   "cell_type": "code",
   "execution_count": 30,
   "metadata": {
    "colab": {
     "base_uri": "https://localhost:8080/"
    },
    "id": "JycAJmNXLejK",
    "outputId": "96f37d3d-a6d2-45c2-ea42-c52d98b86ace"
   },
   "outputs": [
    {
     "data": {
      "text/plain": [
       "True"
      ]
     },
     "execution_count": 30,
     "metadata": {},
     "output_type": "execute_result"
    }
   ],
   "source": [
    "7 / 3 == 7 / 3.0"
   ]
  },
  {
   "cell_type": "code",
   "execution_count": 31,
   "metadata": {
    "colab": {
     "base_uri": "https://localhost:8080/"
    },
    "id": "rgIO2nsMLrGa",
    "outputId": "9a86671f-205d-4b47-cd6c-fa027b1ead59"
   },
   "outputs": [
    {
     "data": {
      "text/plain": [
       "True"
      ]
     },
     "execution_count": 31,
     "metadata": {},
     "output_type": "execute_result"
    }
   ],
   "source": [
    "'nesia' in 'Indonesia'"
   ]
  },
  {
   "cell_type": "code",
   "execution_count": 32,
   "metadata": {
    "colab": {
     "base_uri": "https://localhost:8080/"
    },
    "id": "6zMur7VLLrwA",
    "outputId": "0c2f575f-74d8-4564-ae79-91db98622f36"
   },
   "outputs": [
    {
     "data": {
      "text/plain": [
       "True"
      ]
     },
     "execution_count": 32,
     "metadata": {},
     "output_type": "execute_result"
    }
   ],
   "source": [
    "(2 + 3) == 5"
   ]
  },
  {
   "cell_type": "code",
   "execution_count": 33,
   "metadata": {
    "colab": {
     "base_uri": "https://localhost:8080/"
    },
    "id": "Om7_YDsSLwNG",
    "outputId": "8e0fb323-b5ad-4a3e-a3e4-14365077d989"
   },
   "outputs": [
    {
     "data": {
      "text/plain": [
       "True"
      ]
     },
     "execution_count": 33,
     "metadata": {},
     "output_type": "execute_result"
    }
   ],
   "source": [
    "2 + 3 == 5"
   ]
  },
  {
   "cell_type": "code",
   "execution_count": 34,
   "metadata": {
    "colab": {
     "base_uri": "https://localhost:8080/"
    },
    "id": "WEKoTIRrLzCy",
    "outputId": "4d38ca8f-6c26-4ed8-d602-35783de050e7"
   },
   "outputs": [
    {
     "data": {
      "text/plain": [
       "False"
      ]
     },
     "execution_count": 34,
     "metadata": {},
     "output_type": "execute_result"
    }
   ],
   "source": [
    "\"2\" + \"3\" == \"5\""
   ]
  },
  {
   "cell_type": "code",
   "execution_count": 35,
   "metadata": {
    "colab": {
     "base_uri": "https://localhost:8080/"
    },
    "id": "-kGVWdsVMFPt",
    "outputId": "0b0f8763-0a34-45ba-94dc-8d3f058bb5e4"
   },
   "outputs": [
    {
     "data": {
      "text/plain": [
       "2"
      ]
     },
     "execution_count": 35,
     "metadata": {},
     "output_type": "execute_result"
    }
   ],
   "source": [
    "11 % 3"
   ]
  },
  {
   "cell_type": "code",
   "execution_count": 36,
   "metadata": {
    "colab": {
     "base_uri": "https://localhost:8080/"
    },
    "id": "2fsEA7G8MF1U",
    "outputId": "d058e65b-5b1e-4008-86b5-402bf0e28a51"
   },
   "outputs": [
    {
     "data": {
      "text/plain": [
       "True"
      ]
     },
     "execution_count": 36,
     "metadata": {},
     "output_type": "execute_result"
    }
   ],
   "source": [
    "1 < 2 and 11 >= 9"
   ]
  },
  {
   "cell_type": "code",
   "execution_count": 37,
   "metadata": {
    "colab": {
     "base_uri": "https://localhost:8080/"
    },
    "id": "DtrviIueMGQx",
    "outputId": "5ff3a917-1cc7-4d91-9da4-b4df43125604"
   },
   "outputs": [
    {
     "data": {
      "text/plain": [
       "True"
      ]
     },
     "execution_count": 37,
     "metadata": {},
     "output_type": "execute_result"
    }
   ],
   "source": [
    "2 > 5 or (1 < 2 and 11 >= 9)"
   ]
  },
  {
   "cell_type": "markdown",
   "metadata": {
    "id": "x7XerWjGMLEE"
   },
   "source": [
    "## Question 2\n",
    "\n"
   ]
  },
  {
   "cell_type": "markdown",
   "metadata": {
    "id": "peKX26i8MlEK"
   },
   "source": [
    "Modify the above code to print ‘Hello Hello Hello Hello Batman’ when the name is ‘Batman.’"
   ]
  },
  {
   "cell_type": "code",
   "execution_count": 38,
   "metadata": {
    "colab": {
     "base_uri": "https://localhost:8080/"
    },
    "id": "xfsxngYTMUFU",
    "outputId": "e3a36577-ec65-4e5c-b914-271802788e4f"
   },
   "outputs": [
    {
     "name": "stdout",
     "output_type": "stream",
     "text": [
      "Hello Hello Hello Hello Hello Batman!\n"
     ]
    }
   ],
   "source": [
    "name = 'Batman'\n",
    "\n",
    "if name == 'Batman':\n",
    "   print('Hello '*5 + 'Batman!')\n",
    "else:\n",
    "   print('Hello World!')"
   ]
  },
  {
   "cell_type": "markdown",
   "metadata": {
    "id": "plmwJ_Q5Mnl2"
   },
   "source": [
    "Modify the code to respond to Robin instead of Batman."
   ]
  },
  {
   "cell_type": "code",
   "execution_count": 54,
   "metadata": {
    "colab": {
     "base_uri": "https://localhost:8080/"
    },
    "id": "E4BBPLTWMahY",
    "outputId": "b405931b-efa5-40f5-b245-7348222090d6"
   },
   "outputs": [
    {
     "name": "stdout",
     "output_type": "stream",
     "text": [
      "Hello Hello Hello Hello Hello Robin!\n"
     ]
    }
   ],
   "source": [
    "name = 'Robin'\n",
    "\n",
    "if name == 'Robin':\n",
    "   print('Hello '*5 + 'Robin!')\n",
    "else:\n",
    "   print('Hello World!')"
   ]
  },
  {
   "cell_type": "markdown",
   "metadata": {
    "id": "9-Ci8tOnMshh"
   },
   "source": [
    "## Question 3\n",
    "\n",
    "The following code has a few bugs; fix them!\n"
   ]
  },
  {
   "cell_type": "code",
   "execution_count": 40,
   "metadata": {
    "colab": {
     "base_uri": "https://localhost:8080/"
    },
    "id": "YYlOSLhSM35w",
    "outputId": "b32c8f3d-c720-4606-8e72-1fba185267c8"
   },
   "outputs": [
    {
     "name": "stdout",
     "output_type": "stream",
     "text": [
      "3 4 5.0\n"
     ]
    }
   ],
   "source": [
    "import math\n",
    "x,y = 3,4\n",
    "z = math.sqrt(x**2 + y**2)\n",
    "print(x,y,z)"
   ]
  },
  {
   "cell_type": "markdown",
   "metadata": {
    "id": "zI_-HOtgMure"
   },
   "source": [
    "## Question 4\n",
    "\n"
   ]
  },
  {
   "cell_type": "code",
   "execution_count": 41,
   "metadata": {
    "id": "XrprIbfkNpmy"
   },
   "outputs": [],
   "source": [
    "import numpy as np\n",
    "\n",
    "my_np_list = np.array([182, 269, 341, 410, 523,\n",
    "                       697, 728, 856, 948, 101,\n",
    "                       1120, 1272, 1312, 1460, 1564,\n",
    "                       1642, 1717, 1816, 1923, 2087])                "
   ]
  },
  {
   "cell_type": "markdown",
   "metadata": {
    "id": "40L8SfO6NPIo"
   },
   "source": [
    "1. What is the number in the 4th position in the array?"
   ]
  },
  {
   "cell_type": "code",
   "execution_count": 42,
   "metadata": {
    "colab": {
     "base_uri": "https://localhost:8080/"
    },
    "id": "xU4izfKlNdsT",
    "outputId": "f5ecce01-7753-4dc7-c978-cd8aee745384"
   },
   "outputs": [
    {
     "data": {
      "text/plain": [
       "410"
      ]
     },
     "execution_count": 42,
     "metadata": {},
     "output_type": "execute_result"
    }
   ],
   "source": [
    "my_np_list[3]"
   ]
  },
  {
   "cell_type": "markdown",
   "metadata": {
    "id": "TzHNeSLHNSg3"
   },
   "source": [
    "2. What is the last number in the array?\n"
   ]
  },
  {
   "cell_type": "code",
   "execution_count": 43,
   "metadata": {
    "colab": {
     "base_uri": "https://localhost:8080/"
    },
    "id": "GSS0I9wDNh87",
    "outputId": "db5f125f-90fd-4240-88d8-eea7a1c7fb46"
   },
   "outputs": [
    {
     "data": {
      "text/plain": [
       "2087"
      ]
     },
     "execution_count": 43,
     "metadata": {},
     "output_type": "execute_result"
    }
   ],
   "source": [
    "my_np_list[-1]"
   ]
  },
  {
   "cell_type": "markdown",
   "metadata": {
    "id": "VturgJX2NTJt"
   },
   "source": [
    "3. What are the first 3 values?\n"
   ]
  },
  {
   "cell_type": "code",
   "execution_count": 44,
   "metadata": {
    "colab": {
     "base_uri": "https://localhost:8080/"
    },
    "id": "u0tc5e1YNiXf",
    "outputId": "9a18adc0-9b1d-4f8d-a2b8-dc2b359d46d2"
   },
   "outputs": [
    {
     "data": {
      "text/plain": [
       "array([182, 269, 341])"
      ]
     },
     "execution_count": 44,
     "metadata": {},
     "output_type": "execute_result"
    }
   ],
   "source": [
    "my_np_list[:3]"
   ]
  },
  {
   "cell_type": "markdown",
   "metadata": {
    "id": "AMtxHy6pNTny"
   },
   "source": [
    "4. What are the values from the 4th to the 10th position? (This should include the numbers at the 4th and 10th positions.)\n"
   ]
  },
  {
   "cell_type": "code",
   "execution_count": 45,
   "metadata": {
    "colab": {
     "base_uri": "https://localhost:8080/"
    },
    "id": "YSx8tLjBNipB",
    "outputId": "5a754672-feba-4661-e199-e7549812ebd3"
   },
   "outputs": [
    {
     "data": {
      "text/plain": [
       "array([410, 523, 697, 728, 856, 948, 101])"
      ]
     },
     "execution_count": 45,
     "metadata": {},
     "output_type": "execute_result"
    }
   ],
   "source": [
    "my_np_list[3:10]"
   ]
  },
  {
   "cell_type": "markdown",
   "metadata": {
    "id": "Ihg12OD-NUDK"
   },
   "source": [
    "5. What are the values in the list greater than 500?\n"
   ]
  },
  {
   "cell_type": "code",
   "execution_count": 46,
   "metadata": {
    "colab": {
     "base_uri": "https://localhost:8080/"
    },
    "id": "Ac-1K0CeNjEM",
    "outputId": "cd6651c6-d005-4d6d-b539-4b327b3e7ded"
   },
   "outputs": [
    {
     "data": {
      "text/plain": [
       "array([ 523,  697,  728,  856,  948, 1120, 1272, 1312, 1460, 1564, 1642,\n",
       "       1717, 1816, 1923, 2087])"
      ]
     },
     "execution_count": 46,
     "metadata": {},
     "output_type": "execute_result"
    }
   ],
   "source": [
    "my_np_list[my_np_list > 500]"
   ]
  },
  {
   "cell_type": "markdown",
   "metadata": {
    "id": "UcYtVLHxNVDK"
   },
   "source": [
    "7. Use the 'hidden' numpy functions `max()`, `min()`, `mean()` and `std()` to find the maximum, minimum, mean and standard deviation of the values of the numpy array.\n"
   ]
  },
  {
   "cell_type": "code",
   "execution_count": 47,
   "metadata": {
    "colab": {
     "base_uri": "https://localhost:8080/"
    },
    "id": "KAdW9IGcNjwz",
    "outputId": "768b1b42-6f14-4a6c-e479-3d87839ef0a6"
   },
   "outputs": [
    {
     "data": {
      "text/plain": [
       "2087"
      ]
     },
     "execution_count": 47,
     "metadata": {},
     "output_type": "execute_result"
    }
   ],
   "source": [
    "my_np_list.max()"
   ]
  },
  {
   "cell_type": "code",
   "execution_count": 48,
   "metadata": {
    "colab": {
     "base_uri": "https://localhost:8080/"
    },
    "id": "_uzCPWv2Q29E",
    "outputId": "c19da216-28cf-4c03-911b-4ff72294a2db"
   },
   "outputs": [
    {
     "data": {
      "text/plain": [
       "101"
      ]
     },
     "execution_count": 48,
     "metadata": {},
     "output_type": "execute_result"
    }
   ],
   "source": [
    "my_np_list.min()"
   ]
  },
  {
   "cell_type": "code",
   "execution_count": 49,
   "metadata": {
    "colab": {
     "base_uri": "https://localhost:8080/"
    },
    "id": "yXT2-ISgQ2Xz",
    "outputId": "03773861-c495-445e-acbd-688589cbf6fc"
   },
   "outputs": [
    {
     "data": {
      "text/plain": [
       "1048.4"
      ]
     },
     "execution_count": 49,
     "metadata": {},
     "output_type": "execute_result"
    }
   ],
   "source": [
    "my_np_list.mean()"
   ]
  },
  {
   "cell_type": "code",
   "execution_count": 50,
   "metadata": {
    "colab": {
     "base_uri": "https://localhost:8080/"
    },
    "id": "VmyiSlHpQ2IC",
    "outputId": "5b32a958-ccd4-486a-f29b-0db9bd6f31d8"
   },
   "outputs": [
    {
     "data": {
      "text/plain": [
       "612.5768849703685"
      ]
     },
     "execution_count": 50,
     "metadata": {},
     "output_type": "execute_result"
    }
   ],
   "source": [
    "my_np_list.std()"
   ]
  },
  {
   "cell_type": "markdown",
   "metadata": {
    "id": "bb6aYKfJNVbA"
   },
   "source": [
    "8. Make all the numbers less than 500 equal to zero!"
   ]
  },
  {
   "cell_type": "code",
   "execution_count": 51,
   "metadata": {
    "id": "GxkdJ8ZsNkWP"
   },
   "outputs": [],
   "source": [
    "my_np_list[my_np_list < 500] = 0"
   ]
  },
  {
   "cell_type": "code",
   "execution_count": 52,
   "metadata": {
    "colab": {
     "base_uri": "https://localhost:8080/"
    },
    "id": "luylRWLVQnWF",
    "outputId": "94b0afa1-ae55-4acc-ac1f-47768159f410"
   },
   "outputs": [
    {
     "data": {
      "text/plain": [
       "array([   0,    0,    0,    0,  523,  697,  728,  856,  948,    0, 1120,\n",
       "       1272, 1312, 1460, 1564, 1642, 1717, 1816, 1923, 2087])"
      ]
     },
     "execution_count": 52,
     "metadata": {},
     "output_type": "execute_result"
    }
   ],
   "source": [
    "my_np_list                        # Did it work?"
   ]
  },
  {
   "cell_type": "markdown",
   "metadata": {
    "id": "iRIJiUSQNUrm"
   },
   "source": [
    "6. What are the values in the list greater than 500 **and** less than 1000?\n",
    "\n",
    "**Note** \n",
    "- You cannot use '`and`' how arrays are setup internally! You need to use '`&`'.\n",
    "- If it was an '`or`' the symbol will be '`|`' so that: \n",
    "```\n",
    "(my_np_list > 500) | (my_np_list < 1000)\n",
    "```"
   ]
  },
  {
   "cell_type": "code",
   "execution_count": 53,
   "metadata": {
    "colab": {
     "base_uri": "https://localhost:8080/"
    },
    "id": "mztUTbrANjaG",
    "outputId": "5dfc66a0-a20b-4695-b57d-c8aea54a8fd2"
   },
   "outputs": [
    {
     "data": {
      "text/plain": [
       "array([523, 697, 728, 856, 948])"
      ]
     },
     "execution_count": 53,
     "metadata": {},
     "output_type": "execute_result"
    }
   ],
   "source": [
    "my_np_list[(my_np_list > 500) & (my_np_list < 1000)]"
   ]
  }
 ],
 "metadata": {
  "colab": {
   "authorship_tag": "ABX9TyOBbdLIw+RAKpbDZdF4uRR6",
   "collapsed_sections": [],
   "include_colab_link": true,
   "name": "python-basics_some-fundamentals_exercises-solutions",
   "provenance": [],
   "toc_visible": true
  },
  "kernelspec": {
   "display_name": "Python 3",
   "language": "python",
   "name": "python3"
  },
  "language_info": {
   "codemirror_mode": {
    "name": "ipython",
    "version": 3
   },
   "file_extension": ".py",
   "mimetype": "text/x-python",
   "name": "python",
   "nbconvert_exporter": "python",
   "pygments_lexer": "ipython3",
   "version": "3.9.5"
  }
 },
 "nbformat": 4,
 "nbformat_minor": 1
}
