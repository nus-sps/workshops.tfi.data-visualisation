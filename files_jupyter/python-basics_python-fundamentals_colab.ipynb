{
  "nbformat": 4,
  "nbformat_minor": 5,
  "metadata": {
    "kernelspec": {
      "display_name": "Python 3",
      "language": "python",
      "name": "python3"
    },
    "language_info": {
      "codemirror_mode": {
        "name": "ipython",
        "version": 3
      },
      "file_extension": ".py",
      "mimetype": "text/x-python",
      "name": "python",
      "nbconvert_exporter": "python",
      "pygments_lexer": "ipython3",
      "version": "3.9.5"
    },
    "colab": {
      "name": "Python Basics | Python Fundamentals",
      "provenance": [],
      "collapsed_sections": [],
      "toc_visible": true,
      "include_colab_link": true
    }
  },
  "cells": [
    {
      "cell_type": "markdown",
      "metadata": {
        "id": "view-in-github",
        "colab_type": "text"
      },
      "source": [
        "<a href=\"https://colab.research.google.com/github/nus-sps/workshops.tfi.data-visualisation/blob/main/python-basics_python-fundamentals.ipynb\" target=\"_parent\"><img src=\"https://colab.research.google.com/assets/colab-badge.svg\" alt=\"Open In Colab\"/></a>"
      ]
    },
    {
      "cell_type": "markdown",
      "metadata": {
        "id": "Xv2IFRH3XGjM"
      },
      "source": [
        "# Python Basics | Some Fundamentals in 10 minutes"
      ],
      "id": "Xv2IFRH3XGjM"
    },
    {
      "cell_type": "markdown",
      "metadata": {
        "id": "rErYS3dDqhXA"
      },
      "source": [
        "## 1 | Introduction"
      ],
      "id": "rErYS3dDqhXA"
    },
    {
      "cell_type": "markdown",
      "metadata": {
        "id": "gmmMCrtKqkgg"
      },
      "source": [
        "### 1.1 | A simple start"
      ],
      "id": "gmmMCrtKqkgg"
    },
    {
      "cell_type": "code",
      "metadata": {
        "id": "TCKjtEdGq1IJ",
        "colab": {
          "base_uri": "https://localhost:8080/"
        },
        "outputId": "7adf99f3-189b-45f9-b721-f8c0119c98a0"
      },
      "source": [
        "print('Hello World')"
      ],
      "id": "TCKjtEdGq1IJ",
      "execution_count": null,
      "outputs": [
        {
          "output_type": "stream",
          "name": "stdout",
          "text": [
            "Hello World\n"
          ]
        }
      ]
    },
    {
      "cell_type": "code",
      "metadata": {
        "id": "d6JZDd1Qq8-8",
        "colab": {
          "base_uri": "https://localhost:8080/"
        },
        "outputId": "9b896624-f331-4ba6-ee5d-7c91df6ebab6"
      },
      "source": [
        "print('Hello! '*5)"
      ],
      "id": "d6JZDd1Qq8-8",
      "execution_count": null,
      "outputs": [
        {
          "output_type": "stream",
          "name": "stdout",
          "text": [
            "Hello! Hello! Hello! Hello! Hello! \n"
          ]
        }
      ]
    },
    {
      "cell_type": "markdown",
      "metadata": {
        "id": "5WcYoeejrCtG"
      },
      "source": [
        "### 1.2 | Python syntax is very readable and easily understood."
      ],
      "id": "5WcYoeejrCtG"
    },
    {
      "cell_type": "code",
      "metadata": {
        "colab": {
          "base_uri": "https://localhost:8080/"
        },
        "id": "bpuMeWjHryq5",
        "outputId": "98961ed3-3a3e-46db-f736-a39344cef5d3"
      },
      "source": [
        "name = 'Batman'\n",
        "\n",
        "if name == 'Batman':\n",
        "    print('Hello Batman!')\n",
        "else:\n",
        "    print('Hello World!')"
      ],
      "id": "bpuMeWjHryq5",
      "execution_count": null,
      "outputs": [
        {
          "output_type": "stream",
          "name": "stdout",
          "text": [
            "Hello Batman!\n"
          ]
        }
      ]
    },
    {
      "cell_type": "markdown",
      "metadata": {
        "id": "npVJa-AZr2On"
      },
      "source": [
        "### 1.3 | The Python Intepreter\n",
        "\n",
        "- The Python 'brain' is called the '_Python **Interpreter**_' (Latest version is 3.9).\n",
        "- The Python interpreter can only work on a single command at a time.\n",
        "- If you give a list of *commands*, it goes through them one at a time."
      ],
      "id": "npVJa-AZr2On"
    },
    {
      "cell_type": "code",
      "metadata": {
        "id": "-nVdMGc8sJ1O",
        "colab": {
          "base_uri": "https://localhost:8080/"
        },
        "outputId": "9aabffbf-9101-42e9-d020-9c437afad0d0"
      },
      "source": [
        "print('Hello World!')                # Command 0\n",
        "print('Hello Galaxy!')               # Command 1\n",
        "print('Hello Universe!')             # Command 2"
      ],
      "id": "-nVdMGc8sJ1O",
      "execution_count": null,
      "outputs": [
        {
          "output_type": "stream",
          "name": "stdout",
          "text": [
            "Hello World!\n",
            "Hello Galaxy!\n",
            "Hello Universe!\n"
          ]
        }
      ]
    },
    {
      "cell_type": "markdown",
      "metadata": {
        "id": "FJZKcadlqFjJ"
      },
      "source": [
        "## 2 | Some Python Basics\n"
      ],
      "id": "FJZKcadlqFjJ"
    },
    {
      "cell_type": "markdown",
      "metadata": {
        "id": "71404d82"
      },
      "source": [
        "### 2.1 | Comments in Python\n",
        "\n",
        "- We can use a `#` to write comments. \n",
        "- The Python interpretor ignores all comments."
      ],
      "id": "71404d82"
    },
    {
      "cell_type": "code",
      "metadata": {
        "id": "cd62d954",
        "colab": {
          "base_uri": "https://localhost:8080/"
        },
        "outputId": "7edb1976-d3f5-44fc-b41a-2ea2df607000"
      },
      "source": [
        "print('One')              # This is a comment\n",
        "# print('Two')            # The intepreter ignores this line \n",
        "print('Three')"
      ],
      "id": "cd62d954",
      "execution_count": null,
      "outputs": [
        {
          "output_type": "stream",
          "name": "stdout",
          "text": [
            "One\n",
            "Three\n"
          ]
        }
      ]
    },
    {
      "cell_type": "markdown",
      "metadata": {
        "id": "9be08285"
      },
      "source": [
        "### 2.2 | Python is case sensitive"
      ],
      "id": "9be08285"
    },
    {
      "cell_type": "code",
      "metadata": {
        "id": "cf9b0db2",
        "colab": {
          "base_uri": "https://localhost:8080/"
        },
        "outputId": "10f470ef-5fcd-4973-f6f6-3746de724e21"
      },
      "source": [
        "print('Hello World')      # This WILL work"
      ],
      "id": "cf9b0db2",
      "execution_count": null,
      "outputs": [
        {
          "output_type": "stream",
          "name": "stdout",
          "text": [
            "Hello World\n"
          ]
        }
      ]
    },
    {
      "cell_type": "code",
      "metadata": {
        "id": "9e3dd412",
        "colab": {
          "base_uri": "https://localhost:8080/",
          "height": 163
        },
        "outputId": "97a24812-1a70-414b-ae82-22c7e9e8cdb8"
      },
      "source": [
        "Print('Hello World')      # This will NOT work"
      ],
      "id": "9e3dd412",
      "execution_count": null,
      "outputs": [
        {
          "output_type": "error",
          "ename": "NameError",
          "evalue": "ignored",
          "traceback": [
            "\u001b[0;31m---------------------------------------------------------------------------\u001b[0m",
            "\u001b[0;31mNameError\u001b[0m                                 Traceback (most recent call last)",
            "\u001b[0;32m<ipython-input-40-e8337bbe3070>\u001b[0m in \u001b[0;36m<module>\u001b[0;34m()\u001b[0m\n\u001b[0;32m----> 1\u001b[0;31m \u001b[0mPrint\u001b[0m\u001b[0;34m(\u001b[0m\u001b[0;34m'Hello World'\u001b[0m\u001b[0;34m)\u001b[0m      \u001b[0;31m# This will NOT work\u001b[0m\u001b[0;34m\u001b[0m\u001b[0;34m\u001b[0m\u001b[0m\n\u001b[0m",
            "\u001b[0;31mNameError\u001b[0m: name 'Print' is not defined"
          ]
        }
      ]
    },
    {
      "cell_type": "markdown",
      "metadata": {
        "id": "c8cb0a05"
      },
      "source": [
        "### 2.3 | `x` is a variable. 'x' is an English letter."
      ],
      "id": "c8cb0a05"
    },
    {
      "cell_type": "code",
      "metadata": {
        "colab": {
          "base_uri": "https://localhost:8080/"
        },
        "id": "cf68b693",
        "outputId": "e6b584bc-246a-4605-8e57-f99acd6bb942"
      },
      "source": [
        "print('x')      # Print the English letter 'x'"
      ],
      "id": "cf68b693",
      "execution_count": null,
      "outputs": [
        {
          "output_type": "stream",
          "name": "stdout",
          "text": [
            "x\n"
          ]
        }
      ]
    },
    {
      "cell_type": "code",
      "metadata": {
        "colab": {
          "base_uri": "https://localhost:8080/"
        },
        "id": "wKWZimaYppMn",
        "outputId": "95e6f662-e6f4-4add-fa87-68636c1cb9f6"
      },
      "source": [
        "x = 10\n",
        "print(x)        # Princt the value of the variable x"
      ],
      "id": "wKWZimaYppMn",
      "execution_count": null,
      "outputs": [
        {
          "output_type": "stream",
          "name": "stdout",
          "text": [
            "10\n"
          ]
        }
      ]
    },
    {
      "cell_type": "markdown",
      "metadata": {
        "id": "0fpUMiqIfyHw"
      },
      "source": [
        "### 2.4 | `=` is not the same as '==' \n",
        "\n",
        "- `=` is used to **make** something equal.\n",
        "- `==` is used to **check** if something is equal."
      ],
      "id": "0fpUMiqIfyHw"
    },
    {
      "cell_type": "code",
      "metadata": {
        "id": "CLjue1yFfyHx"
      },
      "source": [
        "x = 10            # Make x have the value 10"
      ],
      "id": "CLjue1yFfyHx",
      "execution_count": null,
      "outputs": []
    },
    {
      "cell_type": "code",
      "metadata": {
        "colab": {
          "base_uri": "https://localhost:8080/"
        },
        "id": "yTmpfwEnfyHy",
        "outputId": "aa546661-8b42-42fa-b85a-15cb3bf35bf3"
      },
      "source": [
        "x == 20           # Tell me if x is equal to 20? "
      ],
      "id": "yTmpfwEnfyHy",
      "execution_count": null,
      "outputs": [
        {
          "output_type": "execute_result",
          "data": {
            "text/plain": [
              "False"
            ]
          },
          "metadata": {},
          "execution_count": 44
        }
      ]
    },
    {
      "cell_type": "code",
      "metadata": {
        "colab": {
          "base_uri": "https://localhost:8080/"
        },
        "id": "UF5SkvYSgedZ",
        "outputId": "b1862684-b125-4076-c57e-1b5eef55ea4e"
      },
      "source": [
        "x == 10           # Tell me if x is equal to 10? "
      ],
      "id": "UF5SkvYSgedZ",
      "execution_count": null,
      "outputs": [
        {
          "output_type": "execute_result",
          "data": {
            "text/plain": [
              "True"
            ]
          },
          "metadata": {},
          "execution_count": 45
        }
      ]
    },
    {
      "cell_type": "markdown",
      "metadata": {
        "id": "460b76b1"
      },
      "source": [
        "### 2.5 |  Be careful of spaces(indentations) at the start of a line"
      ],
      "id": "460b76b1"
    },
    {
      "cell_type": "code",
      "metadata": {
        "id": "0fd5eafa",
        "colab": {
          "base_uri": "https://localhost:8080/"
        },
        "outputId": "cef07bf4-66ca-40e6-fa43-7538a6006d5f"
      },
      "source": [
        "# This WILL work\n",
        "x = 10\n",
        "print(x)"
      ],
      "id": "0fd5eafa",
      "execution_count": null,
      "outputs": [
        {
          "output_type": "stream",
          "name": "stdout",
          "text": [
            "10\n"
          ]
        }
      ]
    },
    {
      "cell_type": "code",
      "metadata": {
        "id": "9416c71c",
        "colab": {
          "base_uri": "https://localhost:8080/",
          "height": 129
        },
        "outputId": "18b15329-2b91-433d-dec3-ba78435f3f8b"
      },
      "source": [
        "# This will NOT work\n",
        "x = 10\n",
        "    print(x)"
      ],
      "id": "9416c71c",
      "execution_count": null,
      "outputs": [
        {
          "output_type": "error",
          "ename": "IndentationError",
          "evalue": "ignored",
          "traceback": [
            "\u001b[0;36m  File \u001b[0;32m\"<ipython-input-47-53b0420fc6ee>\"\u001b[0;36m, line \u001b[0;32m3\u001b[0m\n\u001b[0;31m    print(x)\u001b[0m\n\u001b[0m    ^\u001b[0m\n\u001b[0;31mIndentationError\u001b[0m\u001b[0;31m:\u001b[0m unexpected indent\n"
          ]
        }
      ]
    },
    {
      "cell_type": "markdown",
      "metadata": {
        "id": "274069ec"
      },
      "source": [
        "### 2.6 | Python has many (many) cool packages\n",
        "\n",
        "Basic Python is limited but can be extended with packages. \n",
        "\n",
        "Let's understand what this means. "
      ],
      "id": "274069ec"
    },
    {
      "cell_type": "code",
      "metadata": {
        "id": "7ff558bf",
        "colab": {
          "base_uri": "https://localhost:8080/",
          "height": 197
        },
        "outputId": "63cf7717-fa97-42e6-8c53-4e51c3bf8b83"
      },
      "source": [
        "sqrt(4)       # Will NOT work because basic Python is limited"
      ],
      "id": "7ff558bf",
      "execution_count": null,
      "outputs": [
        {
          "output_type": "error",
          "ename": "NameError",
          "evalue": "ignored",
          "traceback": [
            "\u001b[0;31m---------------------------------------------------------------------------\u001b[0m",
            "\u001b[0;31mNameError\u001b[0m                                 Traceback (most recent call last)",
            "\u001b[0;32m<ipython-input-48-f00f1e21bca0>\u001b[0m in \u001b[0;36m<module>\u001b[0;34m()\u001b[0m\n\u001b[0;32m----> 1\u001b[0;31m \u001b[0msqrt\u001b[0m\u001b[0;34m(\u001b[0m\u001b[0;36m4\u001b[0m\u001b[0;34m)\u001b[0m       \u001b[0;31m# Will NOT work because basic Python is limited\u001b[0m\u001b[0;34m\u001b[0m\u001b[0;34m\u001b[0m\u001b[0m\n\u001b[0m",
            "\u001b[0;31mNameError\u001b[0m: name 'sqrt' is not defined"
          ]
        }
      ]
    },
    {
      "cell_type": "markdown",
      "metadata": {
        "id": "iJZg3RgpgZXq"
      },
      "source": [
        "Let's import a package called `math` to fix this problem."
      ],
      "id": "iJZg3RgpgZXq"
    },
    {
      "cell_type": "code",
      "metadata": {
        "id": "10bf4ccb"
      },
      "source": [
        "import math   # Adding(importing) the functions of the 'math' package"
      ],
      "id": "10bf4ccb",
      "execution_count": null,
      "outputs": []
    },
    {
      "cell_type": "code",
      "metadata": {
        "id": "07bb74b6",
        "colab": {
          "base_uri": "https://localhost:8080/"
        },
        "outputId": "6e46e6dd-02a3-4ab5-8bf3-8daf605ef1bf"
      },
      "source": [
        "math.sqrt(4)"
      ],
      "id": "07bb74b6",
      "execution_count": null,
      "outputs": [
        {
          "output_type": "execute_result",
          "data": {
            "text/plain": [
              "2.0"
            ]
          },
          "metadata": {},
          "execution_count": 50
        }
      ]
    },
    {
      "cell_type": "markdown",
      "metadata": {
        "id": "2a17a81c"
      },
      "source": [
        "We can use other packages too. Lets consider the package **numpy**."
      ],
      "id": "2a17a81c"
    },
    {
      "cell_type": "code",
      "metadata": {
        "id": "b01636fa"
      },
      "source": [
        "import numpy as np     # We are lazy! We type 'np' instead of 'numpy'"
      ],
      "id": "b01636fa",
      "execution_count": null,
      "outputs": []
    },
    {
      "cell_type": "code",
      "metadata": {
        "id": "471b44b1",
        "colab": {
          "base_uri": "https://localhost:8080/"
        },
        "outputId": "7b491f70-616a-412d-aefd-cc07e8613475"
      },
      "source": [
        "np.sqrt(4)"
      ],
      "id": "471b44b1",
      "execution_count": null,
      "outputs": [
        {
          "output_type": "execute_result",
          "data": {
            "text/plain": [
              "2.0"
            ]
          },
          "metadata": {},
          "execution_count": 52
        }
      ]
    },
    {
      "cell_type": "markdown",
      "metadata": {
        "id": "fzhoHSrrziIM"
      },
      "source": [
        "### 2.7 | The `.` and 'hidden' functions"
      ],
      "id": "fzhoHSrrziIM"
    },
    {
      "cell_type": "markdown",
      "metadata": {
        "id": "149f4b46"
      },
      "source": [
        "The `.` shows ownership. \n",
        "\n",
        "- `math.sqrt()` means the `sqrt()` function belonging to the package `math`\n",
        "- `np.sqrt()` means the `sqrt()` function belonging to the package `numpy`\n",
        "- 'Everything' in Python have useful functions that are sort of 'hidden'."
      ],
      "id": "149f4b46"
    },
    {
      "cell_type": "markdown",
      "metadata": {
        "id": "7lljGlIJbKzp"
      },
      "source": [
        "#### Example 1: `upper()` a method that belongs to 'letters'"
      ],
      "id": "7lljGlIJbKzp"
    },
    {
      "cell_type": "code",
      "metadata": {
        "colab": {
          "base_uri": "https://localhost:8080/",
          "height": 35
        },
        "id": "1cc8b13d",
        "outputId": "f94a6010-d5c2-4a46-f935-1765152da400"
      },
      "source": [
        "'My name is Batman'.upper()"
      ],
      "id": "1cc8b13d",
      "execution_count": null,
      "outputs": [
        {
          "output_type": "execute_result",
          "data": {
            "application/vnd.google.colaboratory.intrinsic+json": {
              "type": "string"
            },
            "text/plain": [
              "'MY NAME IS BATMAN'"
            ]
          },
          "metadata": {},
          "execution_count": 53
        }
      ]
    },
    {
      "cell_type": "markdown",
      "metadata": {
        "id": "GKFDOpR_w3VE"
      },
      "source": [
        "#### Example 2: `split()` a method that belongs to 'letters'"
      ],
      "id": "GKFDOpR_w3VE"
    },
    {
      "cell_type": "code",
      "metadata": {
        "colab": {
          "base_uri": "https://localhost:8080/"
        },
        "id": "ILGTlmdDyn8O",
        "outputId": "14ac8b82-8a84-465f-d45e-eda86b910115"
      },
      "source": [
        "'My name is Batman'.split()"
      ],
      "id": "ILGTlmdDyn8O",
      "execution_count": null,
      "outputs": [
        {
          "output_type": "execute_result",
          "data": {
            "text/plain": [
              "['My', 'name', 'is', 'Batman']"
            ]
          },
          "metadata": {},
          "execution_count": 54
        }
      ]
    },
    {
      "cell_type": "markdown",
      "metadata": {
        "id": "LaxgEGvAw0MJ"
      },
      "source": [
        "#### Example 3: Available methods depends on what you have\n",
        "\n",
        "---\n",
        "\n"
      ],
      "id": "LaxgEGvAw0MJ"
    },
    {
      "cell_type": "code",
      "metadata": {
        "colab": {
          "base_uri": "https://localhost:8080/",
          "height": 146
        },
        "id": "NgrjwUZcwg2b",
        "outputId": "6bd1b06b-da38-4096-8fbd-08abba6a6f58"
      },
      "source": [
        "1234.split()              # Will NOT work because split() is not a method available to numbers"
      ],
      "id": "NgrjwUZcwg2b",
      "execution_count": null,
      "outputs": [
        {
          "output_type": "error",
          "ename": "SyntaxError",
          "evalue": "ignored",
          "traceback": [
            "\u001b[0;36m  File \u001b[0;32m\"<ipython-input-55-d1af11342a47>\"\u001b[0;36m, line \u001b[0;32m1\u001b[0m\n\u001b[0;31m    1234.split()              # Will NOT work. split() is not a method available to numbers\u001b[0m\n\u001b[0m             ^\u001b[0m\n\u001b[0;31mSyntaxError\u001b[0m\u001b[0;31m:\u001b[0m invalid syntax\n"
          ]
        }
      ]
    },
    {
      "cell_type": "markdown",
      "metadata": {
        "id": "nABiVQKubXm_"
      },
      "source": [
        "### 2.8 | Python Lists and numpy Arrays\n",
        "\n",
        "- Two import ways to store information in Python are Python Lists and numpy Arrays."
      ],
      "id": "nABiVQKubXm_"
    },
    {
      "cell_type": "code",
      "metadata": {
        "id": "cXJHpU9EdmW_"
      },
      "source": [
        "py_list = [1, 2, 3, 4, 5, 6, 7, 8, 9, 10]                  # A Python list\n",
        "np_array = np.array([1, 2, 3, 4, 5, 6, 7, 8, 9, 10] )      # a numpy array"
      ],
      "id": "cXJHpU9EdmW_",
      "execution_count": null,
      "outputs": []
    },
    {
      "cell_type": "markdown",
      "metadata": {
        "id": "PPP4zc1VhGXT"
      },
      "source": [
        "Althoug they look similary each have different features"
      ],
      "id": "PPP4zc1VhGXT"
    },
    {
      "cell_type": "markdown",
      "metadata": {
        "id": "kob_wE8PdxuH"
      },
      "source": [
        "#### Example 1: Selecting elements that satisfy a criterion"
      ],
      "id": "kob_wE8PdxuH"
    },
    {
      "cell_type": "code",
      "metadata": {
        "colab": {
          "base_uri": "https://localhost:8080/"
        },
        "id": "CuwiettZhaF4",
        "outputId": "0d8daf37-11ce-4870-8550-194377375637"
      },
      "source": [
        "np_array[np_array > 4]    # Show me (subset) numbers more than 4"
      ],
      "id": "CuwiettZhaF4",
      "execution_count": null,
      "outputs": [
        {
          "output_type": "execute_result",
          "data": {
            "text/plain": [
              "array([ 5,  6,  7,  8,  9, 10])"
            ]
          },
          "metadata": {},
          "execution_count": 57
        }
      ]
    },
    {
      "cell_type": "code",
      "metadata": {
        "colab": {
          "base_uri": "https://localhost:8080/",
          "height": 163
        },
        "id": "OW57bKYYh5m4",
        "outputId": "14513322-5e31-4199-b13b-0c19e8b24109"
      },
      "source": [
        "py_list[py_list > 4]      # Will NOT work                          "
      ],
      "id": "OW57bKYYh5m4",
      "execution_count": null,
      "outputs": [
        {
          "output_type": "error",
          "ename": "TypeError",
          "evalue": "ignored",
          "traceback": [
            "\u001b[0;31m---------------------------------------------------------------------------\u001b[0m",
            "\u001b[0;31mTypeError\u001b[0m                                 Traceback (most recent call last)",
            "\u001b[0;32m<ipython-input-58-2e7235c251b1>\u001b[0m in \u001b[0;36m<module>\u001b[0;34m()\u001b[0m\n\u001b[0;32m----> 1\u001b[0;31m \u001b[0mpy_list\u001b[0m\u001b[0;34m[\u001b[0m\u001b[0mpy_list\u001b[0m \u001b[0;34m>\u001b[0m \u001b[0;36m4\u001b[0m\u001b[0;34m]\u001b[0m      \u001b[0;31m# Will NOT work\u001b[0m\u001b[0;34m\u001b[0m\u001b[0;34m\u001b[0m\u001b[0m\n\u001b[0m",
            "\u001b[0;31mTypeError\u001b[0m: '>' not supported between instances of 'list' and 'int'"
          ]
        }
      ]
    },
    {
      "cell_type": "markdown",
      "metadata": {
        "id": "I98-eEOPd4Ik"
      },
      "source": [
        "#### Example 2: Adding a number to an array"
      ],
      "id": "I98-eEOPd4Ik"
    },
    {
      "cell_type": "code",
      "metadata": {
        "colab": {
          "base_uri": "https://localhost:8080/"
        },
        "id": "4j9ZdpQqiaLb",
        "outputId": "f8fd8626-f451-4263-db3c-12a707412c13"
      },
      "source": [
        "np_array + 100            # Add 100 to all elements"
      ],
      "id": "4j9ZdpQqiaLb",
      "execution_count": null,
      "outputs": [
        {
          "output_type": "execute_result",
          "data": {
            "text/plain": [
              "array([101, 102, 103, 104, 105, 106, 107, 108, 109, 110])"
            ]
          },
          "metadata": {},
          "execution_count": 59
        }
      ]
    },
    {
      "cell_type": "code",
      "metadata": {
        "colab": {
          "base_uri": "https://localhost:8080/",
          "height": 163
        },
        "id": "TBkUFUKkiaLa",
        "outputId": "39c435d7-8297-45f2-e5f6-0bc3ecaa09b7"
      },
      "source": [
        "py_list + 100             # Will NOT work  "
      ],
      "id": "TBkUFUKkiaLa",
      "execution_count": null,
      "outputs": [
        {
          "output_type": "error",
          "ename": "TypeError",
          "evalue": "ignored",
          "traceback": [
            "\u001b[0;31m---------------------------------------------------------------------------\u001b[0m",
            "\u001b[0;31mTypeError\u001b[0m                                 Traceback (most recent call last)",
            "\u001b[0;32m<ipython-input-60-7487b5debdc5>\u001b[0m in \u001b[0;36m<module>\u001b[0;34m()\u001b[0m\n\u001b[0;32m----> 1\u001b[0;31m \u001b[0mpy_list\u001b[0m \u001b[0;34m+\u001b[0m \u001b[0;36m100\u001b[0m             \u001b[0;31m# Will NOT work\u001b[0m\u001b[0;34m\u001b[0m\u001b[0;34m\u001b[0m\u001b[0m\n\u001b[0m",
            "\u001b[0;31mTypeError\u001b[0m: can only concatenate list (not \"int\") to list"
          ]
        }
      ]
    },
    {
      "cell_type": "markdown",
      "metadata": {
        "id": "0_2s7YWyd5UM"
      },
      "source": [
        "#### Example 3: Growing a list"
      ],
      "id": "0_2s7YWyd5UM"
    },
    {
      "cell_type": "code",
      "metadata": {
        "colab": {
          "base_uri": "https://localhost:8080/"
        },
        "id": "ULje8lQ1havP",
        "outputId": "a72e533d-3326-4d09-fb1d-6cfd9fc75874"
      },
      "source": [
        "py_list + [100,200]       # Appends the numbers to the list"
      ],
      "id": "ULje8lQ1havP",
      "execution_count": null,
      "outputs": [
        {
          "output_type": "execute_result",
          "data": {
            "text/plain": [
              "[1, 2, 3, 4, 5, 6, 7, 8, 9, 10, 100, 200]"
            ]
          },
          "metadata": {},
          "execution_count": 61
        }
      ]
    },
    {
      "cell_type": "code",
      "metadata": {
        "colab": {
          "base_uri": "https://localhost:8080/",
          "height": 163
        },
        "id": "i-wujWediJ9z",
        "outputId": "3440622b-2de9-421b-c67b-6ad19a30d5ef"
      },
      "source": [
        "np_array + [100,200]     # Will NOT work  "
      ],
      "id": "i-wujWediJ9z",
      "execution_count": null,
      "outputs": [
        {
          "output_type": "error",
          "ename": "ValueError",
          "evalue": "ignored",
          "traceback": [
            "\u001b[0;31m---------------------------------------------------------------------------\u001b[0m",
            "\u001b[0;31mValueError\u001b[0m                                Traceback (most recent call last)",
            "\u001b[0;32m<ipython-input-62-b11ceebbfa9a>\u001b[0m in \u001b[0;36m<module>\u001b[0;34m()\u001b[0m\n\u001b[0;32m----> 1\u001b[0;31m \u001b[0mnp_array\u001b[0m \u001b[0;34m+\u001b[0m \u001b[0;34m[\u001b[0m\u001b[0;36m100\u001b[0m\u001b[0;34m,\u001b[0m\u001b[0;36m200\u001b[0m\u001b[0;34m]\u001b[0m     \u001b[0;31m# Will NOT work\u001b[0m\u001b[0;34m\u001b[0m\u001b[0;34m\u001b[0m\u001b[0m\n\u001b[0m",
            "\u001b[0;31mValueError\u001b[0m: operands could not be broadcast together with shapes (10,) (2,) "
          ]
        }
      ]
    },
    {
      "cell_type": "markdown",
      "metadata": {
        "id": "9S5j8q8fcZNv"
      },
      "source": [
        "### 2.9| Accessing elements of lists and arrays\n",
        "\n",
        "- **Important**: Python starts counting at 0\n"
      ],
      "id": "9S5j8q8fcZNv"
    },
    {
      "cell_type": "markdown",
      "metadata": {
        "id": "MVz6BdVJchdK"
      },
      "source": [
        "#### Examples 1: Selecting one element (indexing)"
      ],
      "id": "MVz6BdVJchdK"
    },
    {
      "cell_type": "code",
      "metadata": {
        "id": "edsBGnqZjiDJ"
      },
      "source": [
        "py_list = [1, 2, 3, 4, 5, 6, 7, 8, 9, 10] "
      ],
      "id": "edsBGnqZjiDJ",
      "execution_count": null,
      "outputs": []
    },
    {
      "cell_type": "code",
      "metadata": {
        "colab": {
          "base_uri": "https://localhost:8080/"
        },
        "id": "pqQkKLNYcyAM",
        "outputId": "f8116013-3a30-4063-f670-514056bec506"
      },
      "source": [
        "# First item\n",
        "py_list[0]"
      ],
      "id": "pqQkKLNYcyAM",
      "execution_count": null,
      "outputs": [
        {
          "output_type": "execute_result",
          "data": {
            "text/plain": [
              "1"
            ]
          },
          "metadata": {},
          "execution_count": 64
        }
      ]
    },
    {
      "cell_type": "code",
      "metadata": {
        "colab": {
          "base_uri": "https://localhost:8080/"
        },
        "id": "4CPGU7iFdZT5",
        "outputId": "7091afbd-8963-4208-9eeb-b27e16c58a29"
      },
      "source": [
        "# Second item\n",
        "py_list[1]"
      ],
      "id": "4CPGU7iFdZT5",
      "execution_count": null,
      "outputs": [
        {
          "output_type": "execute_result",
          "data": {
            "text/plain": [
              "2"
            ]
          },
          "metadata": {},
          "execution_count": 65
        }
      ]
    },
    {
      "cell_type": "code",
      "metadata": {
        "colab": {
          "base_uri": "https://localhost:8080/"
        },
        "id": "WjiQhBqPdZic",
        "outputId": "4dcbbf3a-8379-4f9b-ca9c-84852e10f6e3"
      },
      "source": [
        "# Last item\n",
        "py_list[-1]"
      ],
      "id": "WjiQhBqPdZic",
      "execution_count": null,
      "outputs": [
        {
          "output_type": "execute_result",
          "data": {
            "text/plain": [
              "10"
            ]
          },
          "metadata": {},
          "execution_count": 66
        }
      ]
    },
    {
      "cell_type": "markdown",
      "metadata": {
        "id": "4xLDBR3_j4Hq"
      },
      "source": [
        "#### Examples 2: Selecting a range of elements (slicing)"
      ],
      "id": "4xLDBR3_j4Hq"
    },
    {
      "cell_type": "code",
      "metadata": {
        "id": "3Ksxsd20kz8h"
      },
      "source": [
        "py_list = [1, 2, 3, 4, 5, 6, 7, 8, 9, 10] "
      ],
      "id": "3Ksxsd20kz8h",
      "execution_count": null,
      "outputs": []
    },
    {
      "cell_type": "code",
      "metadata": {
        "colab": {
          "base_uri": "https://localhost:8080/"
        },
        "id": "xfI3m1_Xj4H5",
        "outputId": "80c8a263-bfa3-426f-febd-03f850f2e2b6"
      },
      "source": [
        "# Start at index 3 (i.e. '4') and give two (5-3) elements\n",
        "py_list[3:5]"
      ],
      "id": "xfI3m1_Xj4H5",
      "execution_count": null,
      "outputs": [
        {
          "output_type": "execute_result",
          "data": {
            "text/plain": [
              "[4, 5]"
            ]
          },
          "metadata": {},
          "execution_count": 68
        }
      ]
    },
    {
      "cell_type": "code",
      "metadata": {
        "colab": {
          "base_uri": "https://localhost:8080/"
        },
        "id": "9Vu0IneSj4H6",
        "outputId": "fd3f66ac-f8a0-488c-c78f-e3093ec79268"
      },
      "source": [
        "# Show me 3 elements from the start\n",
        "py_list[:3]"
      ],
      "id": "9Vu0IneSj4H6",
      "execution_count": null,
      "outputs": [
        {
          "output_type": "execute_result",
          "data": {
            "text/plain": [
              "[1, 2, 3]"
            ]
          },
          "metadata": {},
          "execution_count": 69
        }
      ]
    },
    {
      "cell_type": "code",
      "metadata": {
        "colab": {
          "base_uri": "https://localhost:8080/"
        },
        "id": "RpRRV_jNj4H6",
        "outputId": "618b016d-20c6-498b-bcfe-1fa0bcf8673a"
      },
      "source": [
        "# Show me all elements from the index 3\n",
        "py_list[3:]"
      ],
      "id": "RpRRV_jNj4H6",
      "execution_count": null,
      "outputs": [
        {
          "output_type": "execute_result",
          "data": {
            "text/plain": [
              "[4, 5, 6, 7, 8, 9, 10]"
            ]
          },
          "metadata": {},
          "execution_count": 70
        }
      ]
    },
    {
      "cell_type": "code",
      "metadata": {
        "colab": {
          "base_uri": "https://localhost:8080/"
        },
        "id": "3iCGKuAJldbC",
        "outputId": "2611b913-78b7-41ec-e7ce-f66a4627abfe"
      },
      "source": [
        "# Show me everything (from start to end)\n",
        "py_list[:]"
      ],
      "id": "3iCGKuAJldbC",
      "execution_count": null,
      "outputs": [
        {
          "output_type": "execute_result",
          "data": {
            "text/plain": [
              "[1, 2, 3, 4, 5, 6, 7, 8, 9, 10]"
            ]
          },
          "metadata": {},
          "execution_count": 71
        }
      ]
    },
    {
      "cell_type": "markdown",
      "metadata": {
        "id": "af002293"
      },
      "source": [
        "### 2.10 | Getting Help\n",
        "\n",
        "- Googling for help is the fastest way to get a problem solved.\n",
        "- However, you can also get information from within Colab by using the following:"
      ],
      "id": "af002293"
    },
    {
      "cell_type": "code",
      "metadata": {
        "id": "VN4lRn59yNe5"
      },
      "source": [
        "?np.cos"
      ],
      "id": "VN4lRn59yNe5",
      "execution_count": null,
      "outputs": []
    }
  ]
}