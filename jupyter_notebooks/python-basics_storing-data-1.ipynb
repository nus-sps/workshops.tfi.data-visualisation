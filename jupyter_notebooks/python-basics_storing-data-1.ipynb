{
 "cells": [
  {
   "cell_type": "markdown",
   "id": "c2d60817",
   "metadata": {},
   "source": [
    "### Brackets in Pythons"
   ]
  },
  {
   "cell_type": "markdown",
   "id": "7b4afca5",
   "metadata": {},
   "source": [
    "Python uses `( )`, `[ ]` and `{ }`\n",
    "\n",
    "| Type  | Used in..                                    | Examples                                                     |\n",
    "| :------------: | :-------------------- | :----- |\n",
    "| `( )` | – Maths expressions<br />– Python functions. | – `2*(x+10)`<br />– `print(‘Hello World’)`                   |\n",
    "| `[ ]` | – Lists and **numpy** arrays                 | – ` [[1,2,3],['a','b','c']]`                 |\n",
    "| `{ }` | – Dictionaries                               | – {‘First Name’: ’Bruce’, ‘Last Name’: Wayne’, ‘Superhero Name’: ‘Batman’} |\n",
    "\n"
   ]
  },
  {
   "cell_type": "code",
   "execution_count": 10,
   "id": "368b64a2",
   "metadata": {},
   "outputs": [],
   "source": [
    "x = ['a','b','c','d']"
   ]
  },
  {
   "cell_type": "markdown",
   "id": "e142ffd7",
   "metadata": {},
   "source": [
    "### Python uses lists, dictionaries and arrays to store data"
   ]
  },
  {
   "cell_type": "code",
   "execution_count": null,
   "id": "438e5e30",
   "metadata": {},
   "outputs": [],
   "source": []
  }
 ],
 "metadata": {
  "kernelspec": {
   "display_name": "Python 3",
   "language": "python",
   "name": "python3"
  },
  "language_info": {
   "codemirror_mode": {
    "name": "ipython",
    "version": 3
   },
   "file_extension": ".py",
   "mimetype": "text/x-python",
   "name": "python",
   "nbconvert_exporter": "python",
   "pygments_lexer": "ipython3",
   "version": "3.9.5"
  }
 },
 "nbformat": 4,
 "nbformat_minor": 5
}
