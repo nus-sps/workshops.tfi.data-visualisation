{
 "cells": [
  {
   "cell_type": "markdown",
   "id": "71404d82",
   "metadata": {},
   "source": [
    "### Comments in Python"
   ]
  },
  {
   "cell_type": "code",
   "execution_count": 3,
   "id": "cd62d954",
   "metadata": {},
   "outputs": [
    {
     "name": "stdout",
     "output_type": "stream",
     "text": [
      "One\n",
      "Three\n"
     ]
    }
   ],
   "source": [
    "print('One')              # This is a comment\n",
    "# print('Two')\n",
    "print('Three')"
   ]
  },
  {
   "cell_type": "markdown",
   "id": "9be08285",
   "metadata": {},
   "source": [
    "### Python is case sensitive"
   ]
  },
  {
   "cell_type": "code",
   "execution_count": 4,
   "id": "cf9b0db2",
   "metadata": {},
   "outputs": [
    {
     "name": "stdout",
     "output_type": "stream",
     "text": [
      "Hello World\n"
     ]
    }
   ],
   "source": [
    "print('Hello World')      # This WILL work"
   ]
  },
  {
   "cell_type": "code",
   "execution_count": 5,
   "id": "fb794892",
   "metadata": {},
   "outputs": [
    {
     "ename": "NameError",
     "evalue": "name 'Print' is not defined",
     "output_type": "error",
     "traceback": [
      "\u001b[0;31m---------------------------------------------------------------------------\u001b[0m",
      "\u001b[0;31mNameError\u001b[0m                                 Traceback (most recent call last)",
      "\u001b[0;32m<ipython-input-5-8dd87e6e67c5>\u001b[0m in \u001b[0;36m<module>\u001b[0;34m\u001b[0m\n\u001b[0;32m----> 1\u001b[0;31m \u001b[0mPrint\u001b[0m\u001b[0;34m(\u001b[0m\u001b[0;34m'Hello World'\u001b[0m\u001b[0;34m)\u001b[0m         \u001b[0;31m# This will NOT work\u001b[0m\u001b[0;34m\u001b[0m\u001b[0;34m\u001b[0m\u001b[0m\n\u001b[0m",
      "\u001b[0;31mNameError\u001b[0m: name 'Print' is not defined"
     ]
    }
   ],
   "source": [
    "Print('Hello World')      # This will NOT work"
   ]
  },
  {
   "cell_type": "markdown",
   "id": "8702b458",
   "metadata": {},
   "source": [
    "### Python has functions"
   ]
  },
  {
   "cell_type": "code",
   "execution_count": null,
   "id": "4fc1f119",
   "metadata": {},
   "outputs": [],
   "source": []
  },
  {
   "cell_type": "markdown",
   "id": "c8cb0a05",
   "metadata": {},
   "source": [
    "### **`x` is a variable. 'x' is an English letter.**"
   ]
  },
  {
   "cell_type": "code",
   "execution_count": null,
   "id": "cf68b693",
   "metadata": {},
   "outputs": [],
   "source": []
  },
  {
   "cell_type": "markdown",
   "id": "b38b18b7",
   "metadata": {},
   "source": [
    "### We can combine variables with English"
   ]
  },
  {
   "cell_type": "code",
   "execution_count": null,
   "id": "aae21580",
   "metadata": {},
   "outputs": [],
   "source": []
  },
  {
   "cell_type": "markdown",
   "id": "460b76b1",
   "metadata": {},
   "source": [
    "### **Be mindful of spaces(indentations) at the start of a line**"
   ]
  },
  {
   "cell_type": "code",
   "execution_count": null,
   "id": "0fd5eafa",
   "metadata": {},
   "outputs": [],
   "source": [
    "x = 10\n",
    "print(x)"
   ]
  },
  {
   "cell_type": "markdown",
   "id": "c2d60817",
   "metadata": {},
   "source": [
    "### Brackets in Pythons"
   ]
  },
  {
   "cell_type": "code",
   "execution_count": null,
   "id": "368b64a2",
   "metadata": {},
   "outputs": [],
   "source": []
  },
  {
   "cell_type": "markdown",
   "id": "e142ffd7",
   "metadata": {},
   "source": [
    "### Python uses lists, dictionaries and arrays to store data"
   ]
  },
  {
   "cell_type": "code",
   "execution_count": null,
   "id": "438e5e30",
   "metadata": {},
   "outputs": [],
   "source": []
  },
  {
   "cell_type": "markdown",
   "id": "274069ec",
   "metadata": {},
   "source": [
    "### Python has many (many) cool packages"
   ]
  },
  {
   "cell_type": "code",
   "execution_count": null,
   "id": "7ff558bf",
   "metadata": {},
   "outputs": [],
   "source": []
  },
  {
   "cell_type": "markdown",
   "id": "af002293",
   "metadata": {},
   "source": [
    "Python is case sensitive"
   ]
  },
  {
   "cell_type": "code",
   "execution_count": null,
   "id": "6090bc4a",
   "metadata": {},
   "outputs": [],
   "source": []
  }
 ],
 "metadata": {
  "kernelspec": {
   "display_name": "Python 3",
   "language": "python",
   "name": "python3"
  },
  "language_info": {
   "codemirror_mode": {
    "name": "ipython",
    "version": 3
   },
   "file_extension": ".py",
   "mimetype": "text/x-python",
   "name": "python",
   "nbconvert_exporter": "python",
   "pygments_lexer": "ipython3",
   "version": "3.9.5"
  }
 },
 "nbformat": 4,
 "nbformat_minor": 5
}
