{
 "cells": [
  {
   "cell_type": "markdown",
   "id": "71404d82",
   "metadata": {},
   "source": [
    "### Comments in Python"
   ]
  },
  {
   "cell_type": "code",
   "execution_count": 3,
   "id": "cd62d954",
   "metadata": {},
   "outputs": [
    {
     "name": "stdout",
     "output_type": "stream",
     "text": [
      "One\n",
      "Three\n"
     ]
    }
   ],
   "source": [
    "print('One')              # This is a comment\n",
    "# print('Two')\n",
    "print('Three')"
   ]
  },
  {
   "cell_type": "markdown",
   "id": "9be08285",
   "metadata": {},
   "source": [
    "### Python is case sensitive"
   ]
  },
  {
   "cell_type": "code",
   "execution_count": 4,
   "id": "cf9b0db2",
   "metadata": {},
   "outputs": [
    {
     "name": "stdout",
     "output_type": "stream",
     "text": [
      "Hello World\n"
     ]
    }
   ],
   "source": [
    "print('Hello World')      # This WILL work"
   ]
  },
  {
   "cell_type": "code",
   "execution_count": 5,
   "id": "9e3dd412",
   "metadata": {},
   "outputs": [
    {
     "ename": "NameError",
     "evalue": "name 'Print' is not defined",
     "output_type": "error",
     "traceback": [
      "\u001b[0;31m---------------------------------------------------------------------------\u001b[0m",
      "\u001b[0;31mNameError\u001b[0m                                 Traceback (most recent call last)",
      "\u001b[0;32m<ipython-input-5-8dd87e6e67c5>\u001b[0m in \u001b[0;36m<module>\u001b[0;34m\u001b[0m\n\u001b[0;32m----> 1\u001b[0;31m \u001b[0mPrint\u001b[0m\u001b[0;34m(\u001b[0m\u001b[0;34m'Hello World'\u001b[0m\u001b[0;34m)\u001b[0m         \u001b[0;31m# This will NOT work\u001b[0m\u001b[0;34m\u001b[0m\u001b[0;34m\u001b[0m\u001b[0m\n\u001b[0m",
      "\u001b[0;31mNameError\u001b[0m: name 'Print' is not defined"
     ]
    }
   ],
   "source": [
    "Print('Hello World')      # This will NOT work"
   ]
  },
  {
   "cell_type": "markdown",
   "id": "c8cb0a05",
   "metadata": {},
   "source": [
    "### **`x` is a variable. 'x' is an English letter.**"
   ]
  },
  {
   "cell_type": "code",
   "execution_count": null,
   "id": "cf68b693",
   "metadata": {},
   "outputs": [],
   "source": []
  },
  {
   "cell_type": "markdown",
   "id": "b38b18b7",
   "metadata": {},
   "source": [
    "### We can combine variables with English"
   ]
  },
  {
   "cell_type": "code",
   "execution_count": null,
   "id": "aae21580",
   "metadata": {},
   "outputs": [],
   "source": []
  },
  {
   "cell_type": "markdown",
   "id": "460b76b1",
   "metadata": {},
   "source": [
    "### **Be mindful of spaces(indentations) at the start of a line**"
   ]
  },
  {
   "cell_type": "markdown",
   "id": "40de6977",
   "metadata": {},
   "source": [
    "This will work."
   ]
  },
  {
   "cell_type": "code",
   "execution_count": 7,
   "id": "0fd5eafa",
   "metadata": {},
   "outputs": [
    {
     "name": "stdout",
     "output_type": "stream",
     "text": [
      "10\n"
     ]
    }
   ],
   "source": [
    "x = 10\n",
    "print(x)"
   ]
  },
  {
   "cell_type": "markdown",
   "id": "85713f52",
   "metadata": {},
   "source": [
    "This will **not** work"
   ]
  },
  {
   "cell_type": "code",
   "execution_count": 6,
   "id": "9416c71c",
   "metadata": {},
   "outputs": [
    {
     "ename": "IndentationError",
     "evalue": "unexpected indent (<ipython-input-6-78b6f58c0626>, line 2)",
     "output_type": "error",
     "traceback": [
      "\u001b[0;36m  File \u001b[0;32m\"<ipython-input-6-78b6f58c0626>\"\u001b[0;36m, line \u001b[0;32m2\u001b[0m\n\u001b[0;31m    print(x)\u001b[0m\n\u001b[0m    ^\u001b[0m\n\u001b[0;31mIndentationError\u001b[0m\u001b[0;31m:\u001b[0m unexpected indent\n"
     ]
    }
   ],
   "source": [
    "x = 10\n",
    "    print(x)"
   ]
  },
  {
   "cell_type": "markdown",
   "id": "c2d60817",
   "metadata": {},
   "source": [
    "### Brackets in Pythons"
   ]
  },
  {
   "cell_type": "markdown",
   "id": "12a96164",
   "metadata": {},
   "source": [
    "Python uses `( )`, `[ ]` and `{ }`\n",
    "\n",
    "| Type  | Used in..                                    | Examples                                                     |\n",
    "| :------------: | :-------------------- | :----- |\n",
    "| `( )` | – Maths expressions<br />– Python functions. | – `2*(x+10)`<br />– `print(‘Hello World’)`                   |\n",
    "| `[ ]` | – Lists and **numpy** arrays                 | – ` [[1,2,3],['a','b','c']]`                 |\n",
    "| `{ }` | – Dictionaries                               | – {‘First Name’: ’Bruce’, ‘Last Name’: Wayne’, ‘Superhero Name’: ‘Batman’} |\n",
    "\n"
   ]
  },
  {
   "cell_type": "markdown",
   "id": "274069ec",
   "metadata": {},
   "source": [
    "### Python has many (many) cool packages"
   ]
  },
  {
   "cell_type": "markdown",
   "id": "771ffbeb",
   "metadata": {},
   "source": [
    "Basic Python is limited but can be supercharged with packages. \n",
    "\n",
    "Lets understand what this means. "
   ]
  },
  {
   "cell_type": "code",
   "execution_count": 11,
   "id": "7ff558bf",
   "metadata": {},
   "outputs": [
    {
     "ename": "NameError",
     "evalue": "name 'sqrt' is not defined",
     "output_type": "error",
     "traceback": [
      "\u001b[0;31m---------------------------------------------------------------------------\u001b[0m",
      "\u001b[0;31mNameError\u001b[0m                                 Traceback (most recent call last)",
      "\u001b[0;32m<ipython-input-11-317e033d29d5>\u001b[0m in \u001b[0;36m<module>\u001b[0;34m\u001b[0m\n\u001b[0;32m----> 1\u001b[0;31m \u001b[0msqrt\u001b[0m\u001b[0;34m(\u001b[0m\u001b[0;36m4\u001b[0m\u001b[0;34m)\u001b[0m\u001b[0;34m\u001b[0m\u001b[0;34m\u001b[0m\u001b[0m\n\u001b[0m",
      "\u001b[0;31mNameError\u001b[0m: name 'sqrt' is not defined"
     ]
    }
   ],
   "source": [
    "sqrt(4)       # Will NOT work because basic Python is limited"
   ]
  },
  {
   "cell_type": "code",
   "execution_count": 13,
   "id": "10bf4ccb",
   "metadata": {},
   "outputs": [],
   "source": [
    "import math   # Adding(importing) the functions of the 'math' package"
   ]
  },
  {
   "cell_type": "code",
   "execution_count": 14,
   "id": "07bb74b6",
   "metadata": {},
   "outputs": [
    {
     "data": {
      "text/plain": [
       "2.0"
      ]
     },
     "execution_count": 14,
     "metadata": {},
     "output_type": "execute_result"
    }
   ],
   "source": [
    "math.sqrt(4)"
   ]
  },
  {
   "cell_type": "markdown",
   "id": "2a17a81c",
   "metadata": {},
   "source": [
    "We can use other packages too. Lets consider the package **numpy**."
   ]
  },
  {
   "cell_type": "code",
   "execution_count": 15,
   "id": "b01636fa",
   "metadata": {},
   "outputs": [],
   "source": [
    "import numpy as np     # We are lazy! We type 'np' instead of 'numpy'"
   ]
  },
  {
   "cell_type": "code",
   "execution_count": 16,
   "id": "471b44b1",
   "metadata": {},
   "outputs": [
    {
     "data": {
      "text/plain": [
       "2.0"
      ]
     },
     "execution_count": 16,
     "metadata": {},
     "output_type": "execute_result"
    }
   ],
   "source": [
    "np.sqrt(4)"
   ]
  },
  {
   "cell_type": "markdown",
   "id": "149f4b46",
   "metadata": {},
   "source": [
    "The `.` shows ownership. \n",
    "\n",
    "`math.sqrt()` means the `sqrt()` function belonging to the package `math`"
   ]
  },
  {
   "cell_type": "markdown",
   "id": "c45c990e",
   "metadata": {},
   "source": [
    "### Python has functions"
   ]
  },
  {
   "cell_type": "code",
   "execution_count": null,
   "id": "1cc8b13d",
   "metadata": {},
   "outputs": [],
   "source": []
  },
  {
   "cell_type": "markdown",
   "id": "af002293",
   "metadata": {},
   "source": [
    "Python is case sensitive"
   ]
  },
  {
   "cell_type": "code",
   "execution_count": null,
   "id": "6090bc4a",
   "metadata": {},
   "outputs": [],
   "source": []
  }
 ],
 "metadata": {
  "kernelspec": {
   "display_name": "Python 3",
   "language": "python",
   "name": "python3"
  },
  "language_info": {
   "codemirror_mode": {
    "name": "ipython",
    "version": 3
   },
   "file_extension": ".py",
   "mimetype": "text/x-python",
   "name": "python",
   "nbconvert_exporter": "python",
   "pygments_lexer": "ipython3",
   "version": "3.9.5"
  }
 },
 "nbformat": 4,
 "nbformat_minor": 5
}
